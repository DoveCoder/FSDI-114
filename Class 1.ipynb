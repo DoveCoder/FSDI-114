{
 "cells": [
  {
   "cell_type": "code",
   "execution_count": null,
   "id": "5779bd7d",
   "metadata": {},
   "outputs": [],
   "source": [
    "for letter in \"Hello, World!\":\n",
    "    print(letter)"
   ]
  },
  {
   "cell_type": "markdown",
   "id": "d2a00691",
   "metadata": {},
   "source": [
    "# Problem 1\n",
    "### Given two strings (string_a and string_b) let's check whether or not they are anagrams of each other given the flollowing criteria:\n",
    "> Two strings are only anagrams of each other if all the conditions below are met:\n",
    "> * they must be exactly the same length \n",
    "> * They must use the same characters (no more, no less)\n",
    "\n",
    "Example: Cars and scar, heart and earth, etc.\n"
   ]
  },
  {
   "cell_type": "code",
   "execution_count": null,
   "id": "7ee884f7",
   "metadata": {},
   "outputs": [],
   "source": [
    "def remove(mystring):\n",
    "    return \"\".join(mystring.split())"
   ]
  },
  {
   "cell_type": "code",
   "execution_count": null,
   "id": "a3f4f523",
   "metadata": {},
   "outputs": [],
   "source": [
    "def is_anagram(string_a, string_b): # Passing two args\n",
    "    \n",
    "    string_a = string_a.lower()\n",
    "    string_b = string_b.lower()\n",
    "    string_a = \"\".join(string_a.split())\n",
    "    string_b = \"\".join(string_b.split())\n",
    "\n",
    "    if len(string_a) != len(string_b): # Test for inequality\n",
    "        return False\n",
    "    char_times_a = dict()           # unorder dictionary\n",
    "    char_times_b = dict()           # unordered dictionary\n",
    "    for i in range(len(string_a)):  # setting the iteration to the size of string_a\n",
    "        if string_a[i] not in char_times_a.keys(): # adds the letter to dict keys\n",
    "            char_times_a[string_a[i]] = 1  # adds one to the value of the dict\n",
    "        else: \n",
    "            char_times_a[string_a[i]] += 1 # if there is already a value increase by 1\n",
    "        if string_b[i] not in char_times_b.keys():\n",
    "            char_times_b[string_b[i]] = 1\n",
    "        else:\n",
    "            char_times_b[string_b[i]] += 1\n",
    "    return char_times_a == char_times_b    # test the equality of the two dictionaries\n",
    "    "
   ]
  },
  {
   "cell_type": "code",
   "execution_count": null,
   "id": "2bb762ee",
   "metadata": {},
   "outputs": [],
   "source": [
    "is_anagram(\"Cars\", \"scar\")"
   ]
  },
  {
   "cell_type": "code",
   "execution_count": null,
   "id": "c0063ee6",
   "metadata": {},
   "outputs": [],
   "source": [
    "is_anagram(\"cars\", \"sccr\")"
   ]
  },
  {
   "cell_type": "code",
   "execution_count": null,
   "id": "280fde9c",
   "metadata": {
    "scrolled": true
   },
   "outputs": [],
   "source": [
    "is_anagram(\"I am lord Voldemort\", \"Tom Marvolo Riddle\")"
   ]
  },
  {
   "cell_type": "code",
   "execution_count": null,
   "id": "2e4f5165",
   "metadata": {},
   "outputs": [],
   "source": [
    "class Stack:\n",
    "    def __inti__(self):\n",
    "        self.items = []\n",
    "    \n",
    "    def is_empty(self):\n",
    "        return self.items == []\n",
    "    \n",
    "    def push(self, item):\n",
    "        self.items.append(item)\n",
    "        \n",
    "    def pop(self):\n",
    "        return self.items.pop()\n",
    "    \n",
    "    def peek(self):\n",
    "        return self.items[len(self.items)-1]\n",
    "    \n",
    "    def size(self):\n",
    "        return len(self.items)"
   ]
  },
  {
   "cell_type": "code",
   "execution_count": null,
   "id": "30b65320",
   "metadata": {
    "scrolled": true
   },
   "outputs": [],
   "source": [
    "def reverse_str(mystring):\n",
    "    stack = Stack()\n",
    "    output = \"\"\n",
    "    for letter in mystring:\n",
    "        stack.push(letter)\n",
    "    while not stack.is_empty():\n",
    "        output += stack.pop()\n",
    "    return output"
   ]
  },
  {
   "cell_type": "code",
   "execution_count": null,
   "id": "3b39d6e0",
   "metadata": {},
   "outputs": [],
   "source": [
    "reverse_str(\"Hello\")"
   ]
  },
  {
   "cell_type": "code",
   "execution_count": null,
   "id": "c12c2fa4",
   "metadata": {},
   "outputs": [],
   "source": []
  }
 ],
 "metadata": {
  "kernelspec": {
   "display_name": "Python 3 (ipykernel)",
   "language": "python",
   "name": "python3"
  },
  "language_info": {
   "codemirror_mode": {
    "name": "ipython",
    "version": 3
   },
   "file_extension": ".py",
   "mimetype": "text/x-python",
   "name": "python",
   "nbconvert_exporter": "python",
   "pygments_lexer": "ipython3",
   "version": "3.10.0"
  }
 },
 "nbformat": 4,
 "nbformat_minor": 5
}
